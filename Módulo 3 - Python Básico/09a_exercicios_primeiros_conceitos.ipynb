{
 "cells": [
  {
   "cell_type": "markdown",
   "metadata": {},
   "source": [
    "# Exercícios"
   ]
  },
  {
   "cell_type": "markdown",
   "metadata": {},
   "source": [
    "Durante a resolução, busque utilizar os atalhos do Jupyter para acelerar o seu trabalho.\n",
    "\n",
    "Busque utilizar nomes significativos para suas variáveis. Isso torna o código mais legível e mais fácil de entender."
   ]
  },
  {
   "cell_type": "markdown",
   "metadata": {},
   "source": [
    "## Exercício 1\n",
    "\n",
    "Defina uma variável com o valor de 1500,00 referente a uma venda. Em seguida, guarde o valor da comissao de 5% sobre o valor em outra variável."
   ]
  },
  {
   "cell_type": "code",
   "execution_count": 1,
   "metadata": {},
   "outputs": [
    {
     "data": {
      "text/plain": [
       "75.0"
      ]
     },
     "execution_count": 1,
     "metadata": {},
     "output_type": "execute_result"
    }
   ],
   "source": [
    "venda = 1500.0\n",
    "porcentagem_comissao = 0.05\n",
    "\n",
    "comissao = venda * porcentagem_comissao\n",
    "comissao"
   ]
  },
  {
   "cell_type": "markdown",
   "metadata": {},
   "source": [
    "## Exercício 2\n",
    "\n",
    "Com o valor da venda e da comissão definidos no exercício anterior, calcule o valor final bruto que o vendedor irá receber sabendo que seu salário base é 1450,00. Guarde o resultado em uma variável. Com `print`, o texto \"O valor final bruto que o vendedor irá receber é R$ x\" onde `x` é o valor final."
   ]
  },
  {
   "cell_type": "code",
   "execution_count": 2,
   "metadata": {},
   "outputs": [
    {
     "name": "stdout",
     "output_type": "stream",
     "text": [
      "O valor final bruto que o vendedor irá receber é R$ 1525.0\n"
     ]
    }
   ],
   "source": [
    "salario_base = 1450.0\n",
    "valor_bruto = salario_base + comissao\n",
    "\n",
    "print(\"O valor final bruto que o vendedor irá receber é R$\", valor_bruto)"
   ]
  },
  {
   "cell_type": "markdown",
   "metadata": {},
   "source": [
    "## Exercício 3\n",
    "\n",
    "Considerando que sobre o valor bruto incidirá 15 % de impostos e contribuições, crie uma variável que calcule o valor a ser pago de imposto. Com `print`, o texto \"O valor a ser pago de imposto é R$ x\" onde `x` é o valor calculado.\n",
    "\n",
    "Em outra variável, calcule o valor líquido que o vendedor irá receber. Com `print`, o texto \"O valor líquido que o vendedor irá receber é R$ x\" onde `x` é o valor calculado."
   ]
  },
  {
   "cell_type": "code",
   "execution_count": 3,
   "metadata": {},
   "outputs": [
    {
     "name": "stdout",
     "output_type": "stream",
     "text": [
      "O valor a ser pago de imposto é R$ 228.75\n"
     ]
    }
   ],
   "source": [
    "aliquota_imposto = 0.15\n",
    "imposto = valor_bruto * aliquota_imposto\n",
    "\n",
    "print(\"O valor a ser pago de imposto é R$\", imposto)"
   ]
  },
  {
   "cell_type": "code",
   "execution_count": 4,
   "metadata": {},
   "outputs": [
    {
     "name": "stdout",
     "output_type": "stream",
     "text": [
      "O valor líquido que o vendedor irá receber é R$ 1296.25\n"
     ]
    }
   ],
   "source": [
    "valor_liquido = valor_bruto - imposto\n",
    "\n",
    "print(\"O valor líquido que o vendedor irá receber é R$\", valor_liquido)"
   ]
  },
  {
   "cell_type": "markdown",
   "metadata": {},
   "source": [
    "## Exercício 4\n",
    "\n",
    "Compare o valor líquido (com o operador `>` ou com o `<`) com o valor do salário mínimo bruto vigente (no momento, R$ 1412,00)."
   ]
  },
  {
   "cell_type": "code",
   "execution_count": 5,
   "metadata": {},
   "outputs": [
    {
     "data": {
      "text/plain": [
       "False"
      ]
     },
     "execution_count": 5,
     "metadata": {},
     "output_type": "execute_result"
    }
   ],
   "source": [
    "salario_minimo = 1412\n",
    "\n",
    "valor_liquido > salario_minimo"
   ]
  },
  {
   "cell_type": "markdown",
   "metadata": {},
   "source": [
    "## Exercício 5\n",
    "\n"
   ]
  },
  {
   "cell_type": "markdown",
   "metadata": {},
   "source": [
    "Considere que o funcionário em questão tem 3 anos de empresa. A empresa tem um política de auxílio mercado para funcionários que tem mais de 2 anos de empresa e que recebem menos de um salário mínimo como valor líquido após impostos. Escreva, com o uso de operadores lógicos, uma expressão que indique se o funcionário tem direito ao auxílio mercado."
   ]
  },
  {
   "cell_type": "code",
   "execution_count": 6,
   "metadata": {},
   "outputs": [
    {
     "data": {
      "text/plain": [
       "True"
      ]
     },
     "execution_count": 6,
     "metadata": {},
     "output_type": "execute_result"
    }
   ],
   "source": [
    "tempo_empresa = 3\n",
    "tempo_minimo_para_auxilio = 2\n",
    "\n",
    "(tempo_empresa > tempo_minimo_para_auxilio) and (valor_liquido < salario_minimo)"
   ]
  }
 ],
 "metadata": {
  "kernelspec": {
   "display_name": "Python 3 (ipykernel)",
   "language": "python",
   "name": "python3"
  },
  "language_info": {
   "codemirror_mode": {
    "name": "ipython",
    "version": 3
   },
   "file_extension": ".py",
   "mimetype": "text/x-python",
   "name": "python",
   "nbconvert_exporter": "python",
   "pygments_lexer": "ipython3",
   "version": "3.11.7"
  }
 },
 "nbformat": 4,
 "nbformat_minor": 4
}
