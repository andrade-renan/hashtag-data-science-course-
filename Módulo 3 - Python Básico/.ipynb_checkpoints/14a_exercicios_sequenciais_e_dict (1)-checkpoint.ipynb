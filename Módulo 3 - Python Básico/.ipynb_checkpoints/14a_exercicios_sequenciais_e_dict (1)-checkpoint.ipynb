{
 "cells": [
  {
   "cell_type": "markdown",
   "metadata": {},
   "source": [
    "## Exercício 1: Acessando Dados de Vendas\n",
    "\n",
    "Dada uma tupla que armazena as vendas mensais de um produto `vendas = (120, 130, 150, 140, 135)`, calcule a venda total do segundo e terceiro mês e imprima o resultado.\n"
   ]
  },
  {
   "cell_type": "code",
   "execution_count": 1,
   "metadata": {},
   "outputs": [
    {
     "name": "stdout",
     "output_type": "stream",
     "text": [
      "Venda total do segundo e terceiro mês: 280\n"
     ]
    }
   ],
   "source": [
    "vendas = (120, 130, 150, 140, 135)\n",
    "total = vendas[1] + vendas[2]  # Indexação começa em 0\n",
    "print(\"Venda total do segundo e terceiro mês:\", total)"
   ]
  },
  {
   "cell_type": "markdown",
   "metadata": {},
   "source": [
    "## Exercício 2: Fatiamento de Lista de Funcionários\n",
    "\n",
    "**Descrição**: Dada uma lista de nomes de funcionários `funcionarios = [\"Ana\", \"Marcos\", \"Felipe\", \"José\", \"Mariana\"]`, obtenha uma sublista com os nomes do segundo ao quarto funcionário e imprima essa sublista.\n",
    "\n"
   ]
  },
  {
   "cell_type": "code",
   "execution_count": 2,
   "metadata": {},
   "outputs": [
    {
     "name": "stdout",
     "output_type": "stream",
     "text": [
      "['Marcos', 'Felipe', 'José']\n"
     ]
    }
   ],
   "source": [
    "funcionarios = [\"Ana\", \"Marcos\", \"Felipe\", \"José\", \"Mariana\"]\n",
    "sublista = funcionarios[1:4]  # O slicing não inclui o índice final\n",
    "print(sublista)"
   ]
  },
  {
   "cell_type": "markdown",
   "metadata": {},
   "source": [
    "## Exercício 3: Convertendo Lista em Dicionário\n",
    "\n",
    "Dada uma lista de pares representando funcionários e seus respectivos departamentos `pares = [(\"Ana\", \"Vendas\"), (\"Luís\", \"TI\"), (\"Clara\", \"RH\")]`, converta esta lista em um dicionário onde as chaves são os nomes dos funcionários e os valores são seus departamentos."
   ]
  },
  {
   "cell_type": "code",
   "execution_count": 3,
   "metadata": {},
   "outputs": [
    {
     "name": "stdout",
     "output_type": "stream",
     "text": [
      "{'Ana': 'Vendas', 'Luís': 'TI', 'Clara': 'RH'}\n"
     ]
    }
   ],
   "source": [
    "pares = [(\"Ana\", \"Vendas\"), (\"Luís\", \"TI\"), (\"Clara\", \"RH\")]\n",
    "\n",
    "dicionario_funcionarios = dict(pares)\n",
    "\n",
    "print(dicionario_funcionarios)"
   ]
  },
  {
   "cell_type": "markdown",
   "metadata": {},
   "source": [
    "## Exercício 4: Atualizando Lista de Contatos\n",
    "\n",
    "Uma empresa mantém uma lista de emails de contatos em uma lista Python. Adicione um novo contato \"novo.contato@empresa.com\" à lista `emails = [\"contato1@empresa.com\", \"contato2@empresa.com\"]` e remova \"contato1@empresa.com\".\n",
    "\n",
    "Dica: pesquise sobre os [métodos de listas](https://docs.python.org/3/tutorial/datastructures.html#more-on-lists) `append` e `remove`.\n",
    "\n"
   ]
  },
  {
   "cell_type": "code",
   "execution_count": 4,
   "metadata": {},
   "outputs": [
    {
     "name": "stdout",
     "output_type": "stream",
     "text": [
      "['contato2@empresa.com', 'novo.contato@empresa.com']\n"
     ]
    }
   ],
   "source": [
    "emails = [\"contato1@empresa.com\", \"contato2@empresa.com\"]\n",
    "emails.append(\"novo.contato@empresa.com\")  # Adiciona novo contato\n",
    "emails.remove(\"contato1@empresa.com\")  # Remove o contato antigo\n",
    "print(emails)"
   ]
  },
  {
   "cell_type": "markdown",
   "metadata": {},
   "source": [
    "## Exercício 5: Contagem de Itens Vendidos\n",
    "\n",
    "Após uma promoção, uma empresa registrou os itens vendidos em uma lista `itens_vendidos = [\"caneta\", \"lápis\", \"caneta\", \"borracha\", \"lápis\", \"caneta\"]`. Conte quantas vezes cada item foi vendido e armazene os resultados em um dicionário.\n",
    "\n",
    "Dica: pesquise sobre o método `count` de listas Python"
   ]
  },
  {
   "cell_type": "code",
   "execution_count": 5,
   "metadata": {},
   "outputs": [
    {
     "data": {
      "text/plain": [
       "3"
      ]
     },
     "execution_count": 5,
     "metadata": {},
     "output_type": "execute_result"
    }
   ],
   "source": [
    "itens_vendidos = [\"caneta\", \"lápis\", \"caneta\", \"borracha\", \"lápis\", \"caneta\"]\n",
    "\n",
    "# exemplo uso do método count\n",
    "itens_vendidos.count(\"caneta\")  # Conta quantas vezes \"caneta\" aparece na lista"
   ]
  },
  {
   "cell_type": "code",
   "execution_count": 6,
   "metadata": {},
   "outputs": [
    {
     "name": "stdout",
     "output_type": "stream",
     "text": [
      "{'caneta': 3, 'lápis': 2, 'borracha': 1}\n"
     ]
    }
   ],
   "source": [
    "# mais adiante no curso veremos formas mais eficientes de fazer isso\n",
    "contagem_itens = {\n",
    "    \"caneta\": itens_vendidos.count(\"caneta\"),\n",
    "    \"lápis\": itens_vendidos.count(\"lápis\"),\n",
    "    \"borracha\": itens_vendidos.count(\"borracha\")\n",
    "}\n",
    "\n",
    "print(contagem_itens)"
   ]
  }
 ],
 "metadata": {
  "kernelspec": {
   "display_name": "base",
   "language": "python",
   "name": "python3"
  },
  "language_info": {
   "codemirror_mode": {
    "name": "ipython",
    "version": 3
   },
   "file_extension": ".py",
   "mimetype": "text/x-python",
   "name": "python",
   "nbconvert_exporter": "python",
   "pygments_lexer": "ipython3",
   "version": "3.10.13"
  }
 },
 "nbformat": 4,
 "nbformat_minor": 2
}
