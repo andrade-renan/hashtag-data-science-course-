{
 "cells": [
  {
   "cell_type": "markdown",
   "metadata": {},
   "source": [
    "## Desafio 1: Divisão de listas em tuplas\n",
    "\n",
    "Dada uma lista de dados `dados = [\"Ana\", 25, \"Luís\", 30, \"Clara\", 28]` onde cada nome de funcionário é seguido pela sua idade, converta esta lista em uma lista de tuplas, onde cada tupla contém o nome do funcionário e sua idade.\n",
    "\n",
    "Dica: pesquise sobre a [função built-in](https://docs.python.org/3/library/functions.html) `zip` do Python"
   ]
  },
  {
   "cell_type": "code",
   "execution_count": 22,
   "metadata": {},
   "outputs": [
    {
     "name": "stdout",
     "output_type": "stream",
     "text": [
      "{'Ana': 25, 'Luís': 30, 'Clara': 28}\n"
     ]
    }
   ],
   "source": [
    "dados = [\"Ana\", 25, \"Luís\", 30, \"Clara\", 28]\n",
    "\n",
    "dict_name_age = dict([(dados[item], dados[item+1]) for item,_ in enumerate(dados) if item%2 == 0])\n",
    "\n",
    "print(dict_name_age)"
   ]
  },
  {
   "cell_type": "markdown",
   "metadata": {},
   "source": [
    "## Desafio 2: Unindo listas de departamentos\n",
    "\n",
    "Duas listas contêm nomes de funcionários de diferentes departamentos da empresa: `departamento_a = [\"Ana\", \"Luís\", \"Clara\"]` e `departamento_b = [\"Marcos\", \"Jonas\", \"Mariana\", \"Ana\"]`. Crie uma nova lista que combine os funcionários de ambos os departamentos e remova qualquer duplicata.\n",
    "\n",
    "Dica: pesquise sobre a estrutura de dados [set](https://docs.python.org/3/tutorial/datastructures.html#sets) em Python"
   ]
  },
  {
   "cell_type": "code",
   "execution_count": 19,
   "metadata": {},
   "outputs": [
    {
     "name": "stdout",
     "output_type": "stream",
     "text": [
      "{'Ana', 'Jonas', 'Mariana', 'Luís', 'Marcos', 'Clara'}\n"
     ]
    }
   ],
   "source": [
    "departamento_a = [\"Ana\", \"Luís\", \"Clara\"]\n",
    "departamento_b = [\"Marcos\", \"Jonas\", \"Mariana\", \"Ana\"]\n",
    "\n",
    "departamentos = set(departamento_a + departamento_b)\n",
    "\n",
    "print(departamentos)"
   ]
  }
 ],
 "metadata": {
  "kernelspec": {
   "display_name": "Python 3 (ipykernel)",
   "language": "python",
   "name": "python3"
  },
  "language_info": {
   "codemirror_mode": {
    "name": "ipython",
    "version": 3
   },
   "file_extension": ".py",
   "mimetype": "text/x-python",
   "name": "python",
   "nbconvert_exporter": "python",
   "pygments_lexer": "ipython3",
   "version": "3.11.7"
  }
 },
 "nbformat": 4,
 "nbformat_minor": 4
}
