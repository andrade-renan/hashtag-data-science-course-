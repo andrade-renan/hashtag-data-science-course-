{
 "cells": [
  {
   "cell_type": "markdown",
   "metadata": {},
   "source": [
    "## Exercício\n",
    "\n",
    "Você é um gerente de vendas e tem os dados de vendas de três produtos diferentes (Produto A, Produto B, Produto C) para os últimos 5 dias em um array 2D NumPy. Cada linha do array representa um produto e cada coluna representa um dia. Seu trabalho é calcular as vendas totais para cada produto e para cada dia.\n",
    "\n",
    "Use o seguinte array para sua análise:\n",
    "\n",
    "```python\n",
    "vendas = np.array([[50, 60, 70, 65, 80],\n",
    "                   [85, 90, 78, 92, 88],\n",
    "                   [72, 75, 68, 77, 76]])\n",
    "```\n",
    "\n",
    "**Solução:**\n"
   ]
  },
  {
   "cell_type": "code",
   "execution_count": 19,
   "metadata": {
    "ExecuteTime": {
     "end_time": "2023-07-03T12:12:12.700234800Z",
     "start_time": "2023-07-03T12:12:12.677347900Z"
    },
    "jupyter": {
     "outputs_hidden": false
    }
   },
   "outputs": [
    {
     "name": "stdout",
     "output_type": "stream",
     "text": [
      "Vendas Totais para o produto A: 325\n",
      "Vendas Totais para o produto B: 433\n",
      "Vendas Totais para o produto C: 368\n",
      "[207 225 216 234 244]\n",
      "Vendas Totais para a semana 1: 207\n",
      "Vendas Totais para a semana 2: 225\n",
      "Vendas Totais para a semana 3: 216\n",
      "Vendas Totais para a semana 4: 234\n",
      "Vendas Totais para a semana 5: 244\n"
     ]
    }
   ],
   "source": [
    "import numpy as np\n",
    "\n",
    "vendas = np.array([[50, 60, 70, 65, 80],\n",
    "                   [85, 90, 78, 92, 88],\n",
    "                   [72, 75, 68, 77, 76]])\n",
    "\n",
    "vendas_produtos = vendas.sum(axis=1)\n",
    "vendas_semana = vendas.sum(axis=0)\n",
    "print(f\"Vendas Totais para o produto A: {vendas_produtos[0]}\")\n",
    "print(f\"Vendas Totais para o produto B: {vendas_produtos[1]}\")\n",
    "print(f\"Vendas Totais para o produto C: {vendas_produtos[2]}\")\n",
    "\n",
    "print(vendas_semana)\n",
    "\n",
    "for i in range(len(vendas_semana)):\n",
    "    print(f\"Vendas Totais para a semana {i+1}: {vendas_semana[i]}\")"
   ]
  }
 ],
 "metadata": {
  "kernelspec": {
   "display_name": "Python 3 (ipykernel)",
   "language": "python",
   "name": "python3"
  },
  "language_info": {
   "codemirror_mode": {
    "name": "ipython",
    "version": 3
   },
   "file_extension": ".py",
   "mimetype": "text/x-python",
   "name": "python",
   "nbconvert_exporter": "python",
   "pygments_lexer": "ipython3",
   "version": "3.11.7"
  }
 },
 "nbformat": 4,
 "nbformat_minor": 4
}
